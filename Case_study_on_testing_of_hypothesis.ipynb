{
  "nbformat": 4,
  "nbformat_minor": 0,
  "metadata": {
    "colab": {
      "provenance": []
    },
    "kernelspec": {
      "name": "python3",
      "display_name": "Python 3"
    },
    "language_info": {
      "name": "python"
    }
  },
  "cells": [
    {
      "cell_type": "code",
      "execution_count": null,
      "metadata": {
        "id": "1gCQTNwsaF7c"
      },
      "outputs": [],
      "source": [
        "import numpy as np\n",
        "import pandas as pd"
      ]
    },
    {
      "cell_type": "code",
      "source": [
        "data=pd.read_csv('/content/Sales_add.csv')\n",
        "data"
      ],
      "metadata": {
        "colab": {
          "base_uri": "https://localhost:8080/",
          "height": 739
        },
        "id": "-2xy3SMtaRVS",
        "outputId": "f60d6749-372a-43ab-8a8d-48155209262b"
      },
      "execution_count": null,
      "outputs": [
        {
          "output_type": "execute_result",
          "data": {
            "text/plain": [
              "       Month      Region      Manager  Sales_before_digital_add(in $)  \\\n",
              "0    Month-1  Region - A  Manager - A                          132921   \n",
              "1    Month-2  Region - A  Manager - C                          149559   \n",
              "2    Month-3  Region - B  Manager - A                          146278   \n",
              "3    Month-4  Region - B  Manager - B                          152167   \n",
              "4    Month-5  Region - C  Manager - B                          159525   \n",
              "5    Month-6  Region - A  Manager - B                          137163   \n",
              "6    Month-7  Region - C  Manager - C                          130625   \n",
              "7    Month-8  Region - A  Manager - A                          131140   \n",
              "8    Month-9  Region - B  Manager - C                          171259   \n",
              "9   Month-10  Region - C  Manager - B                          141956   \n",
              "10  Month-11  Region - B  Manager - C                          159339   \n",
              "11  Month-12  Region - A  Manager - A                          178939   \n",
              "12  Month-13  Region - B  Manager - A                          145062   \n",
              "13  Month-14  Region - A  Manager - A                          151514   \n",
              "14  Month-15  Region - C  Manager - A                          147463   \n",
              "15  Month-16  Region - A  Manager - B                          177195   \n",
              "16  Month-17  Region - A  Manager - C                          140862   \n",
              "17  Month-18  Region - C  Manager - B                          167996   \n",
              "18  Month-19  Region - B  Manager - A                          132135   \n",
              "19  Month-20  Region - A  Manager - B                          152493   \n",
              "20  Month-21  Region - B  Manager - A                          147425   \n",
              "21  Month-22  Region - A  Manager - C                          130263   \n",
              "\n",
              "    Sales_After_digital_add(in $)  \n",
              "0                          270390  \n",
              "1                          223334  \n",
              "2                          244243  \n",
              "3                          231808  \n",
              "4                          258402  \n",
              "5                          256948  \n",
              "6                          222106  \n",
              "7                          230637  \n",
              "8                          226261  \n",
              "9                          193735  \n",
              "10                         203175  \n",
              "11                         276279  \n",
              "12                         205180  \n",
              "13                         253131  \n",
              "14                         229336  \n",
              "15                         187305  \n",
              "16                         234908  \n",
              "17                         191517  \n",
              "18                         227040  \n",
              "19                         212579  \n",
              "20                         263388  \n",
              "21                         243020  "
            ],
            "text/html": [
              "\n",
              "  <div id=\"df-56f3db4d-ff73-44d5-9257-3677a700ab35\" class=\"colab-df-container\">\n",
              "    <div>\n",
              "<style scoped>\n",
              "    .dataframe tbody tr th:only-of-type {\n",
              "        vertical-align: middle;\n",
              "    }\n",
              "\n",
              "    .dataframe tbody tr th {\n",
              "        vertical-align: top;\n",
              "    }\n",
              "\n",
              "    .dataframe thead th {\n",
              "        text-align: right;\n",
              "    }\n",
              "</style>\n",
              "<table border=\"1\" class=\"dataframe\">\n",
              "  <thead>\n",
              "    <tr style=\"text-align: right;\">\n",
              "      <th></th>\n",
              "      <th>Month</th>\n",
              "      <th>Region</th>\n",
              "      <th>Manager</th>\n",
              "      <th>Sales_before_digital_add(in $)</th>\n",
              "      <th>Sales_After_digital_add(in $)</th>\n",
              "    </tr>\n",
              "  </thead>\n",
              "  <tbody>\n",
              "    <tr>\n",
              "      <th>0</th>\n",
              "      <td>Month-1</td>\n",
              "      <td>Region - A</td>\n",
              "      <td>Manager - A</td>\n",
              "      <td>132921</td>\n",
              "      <td>270390</td>\n",
              "    </tr>\n",
              "    <tr>\n",
              "      <th>1</th>\n",
              "      <td>Month-2</td>\n",
              "      <td>Region - A</td>\n",
              "      <td>Manager - C</td>\n",
              "      <td>149559</td>\n",
              "      <td>223334</td>\n",
              "    </tr>\n",
              "    <tr>\n",
              "      <th>2</th>\n",
              "      <td>Month-3</td>\n",
              "      <td>Region - B</td>\n",
              "      <td>Manager - A</td>\n",
              "      <td>146278</td>\n",
              "      <td>244243</td>\n",
              "    </tr>\n",
              "    <tr>\n",
              "      <th>3</th>\n",
              "      <td>Month-4</td>\n",
              "      <td>Region - B</td>\n",
              "      <td>Manager - B</td>\n",
              "      <td>152167</td>\n",
              "      <td>231808</td>\n",
              "    </tr>\n",
              "    <tr>\n",
              "      <th>4</th>\n",
              "      <td>Month-5</td>\n",
              "      <td>Region - C</td>\n",
              "      <td>Manager - B</td>\n",
              "      <td>159525</td>\n",
              "      <td>258402</td>\n",
              "    </tr>\n",
              "    <tr>\n",
              "      <th>5</th>\n",
              "      <td>Month-6</td>\n",
              "      <td>Region - A</td>\n",
              "      <td>Manager - B</td>\n",
              "      <td>137163</td>\n",
              "      <td>256948</td>\n",
              "    </tr>\n",
              "    <tr>\n",
              "      <th>6</th>\n",
              "      <td>Month-7</td>\n",
              "      <td>Region - C</td>\n",
              "      <td>Manager - C</td>\n",
              "      <td>130625</td>\n",
              "      <td>222106</td>\n",
              "    </tr>\n",
              "    <tr>\n",
              "      <th>7</th>\n",
              "      <td>Month-8</td>\n",
              "      <td>Region - A</td>\n",
              "      <td>Manager - A</td>\n",
              "      <td>131140</td>\n",
              "      <td>230637</td>\n",
              "    </tr>\n",
              "    <tr>\n",
              "      <th>8</th>\n",
              "      <td>Month-9</td>\n",
              "      <td>Region - B</td>\n",
              "      <td>Manager - C</td>\n",
              "      <td>171259</td>\n",
              "      <td>226261</td>\n",
              "    </tr>\n",
              "    <tr>\n",
              "      <th>9</th>\n",
              "      <td>Month-10</td>\n",
              "      <td>Region - C</td>\n",
              "      <td>Manager - B</td>\n",
              "      <td>141956</td>\n",
              "      <td>193735</td>\n",
              "    </tr>\n",
              "    <tr>\n",
              "      <th>10</th>\n",
              "      <td>Month-11</td>\n",
              "      <td>Region - B</td>\n",
              "      <td>Manager - C</td>\n",
              "      <td>159339</td>\n",
              "      <td>203175</td>\n",
              "    </tr>\n",
              "    <tr>\n",
              "      <th>11</th>\n",
              "      <td>Month-12</td>\n",
              "      <td>Region - A</td>\n",
              "      <td>Manager - A</td>\n",
              "      <td>178939</td>\n",
              "      <td>276279</td>\n",
              "    </tr>\n",
              "    <tr>\n",
              "      <th>12</th>\n",
              "      <td>Month-13</td>\n",
              "      <td>Region - B</td>\n",
              "      <td>Manager - A</td>\n",
              "      <td>145062</td>\n",
              "      <td>205180</td>\n",
              "    </tr>\n",
              "    <tr>\n",
              "      <th>13</th>\n",
              "      <td>Month-14</td>\n",
              "      <td>Region - A</td>\n",
              "      <td>Manager - A</td>\n",
              "      <td>151514</td>\n",
              "      <td>253131</td>\n",
              "    </tr>\n",
              "    <tr>\n",
              "      <th>14</th>\n",
              "      <td>Month-15</td>\n",
              "      <td>Region - C</td>\n",
              "      <td>Manager - A</td>\n",
              "      <td>147463</td>\n",
              "      <td>229336</td>\n",
              "    </tr>\n",
              "    <tr>\n",
              "      <th>15</th>\n",
              "      <td>Month-16</td>\n",
              "      <td>Region - A</td>\n",
              "      <td>Manager - B</td>\n",
              "      <td>177195</td>\n",
              "      <td>187305</td>\n",
              "    </tr>\n",
              "    <tr>\n",
              "      <th>16</th>\n",
              "      <td>Month-17</td>\n",
              "      <td>Region - A</td>\n",
              "      <td>Manager - C</td>\n",
              "      <td>140862</td>\n",
              "      <td>234908</td>\n",
              "    </tr>\n",
              "    <tr>\n",
              "      <th>17</th>\n",
              "      <td>Month-18</td>\n",
              "      <td>Region - C</td>\n",
              "      <td>Manager - B</td>\n",
              "      <td>167996</td>\n",
              "      <td>191517</td>\n",
              "    </tr>\n",
              "    <tr>\n",
              "      <th>18</th>\n",
              "      <td>Month-19</td>\n",
              "      <td>Region - B</td>\n",
              "      <td>Manager - A</td>\n",
              "      <td>132135</td>\n",
              "      <td>227040</td>\n",
              "    </tr>\n",
              "    <tr>\n",
              "      <th>19</th>\n",
              "      <td>Month-20</td>\n",
              "      <td>Region - A</td>\n",
              "      <td>Manager - B</td>\n",
              "      <td>152493</td>\n",
              "      <td>212579</td>\n",
              "    </tr>\n",
              "    <tr>\n",
              "      <th>20</th>\n",
              "      <td>Month-21</td>\n",
              "      <td>Region - B</td>\n",
              "      <td>Manager - A</td>\n",
              "      <td>147425</td>\n",
              "      <td>263388</td>\n",
              "    </tr>\n",
              "    <tr>\n",
              "      <th>21</th>\n",
              "      <td>Month-22</td>\n",
              "      <td>Region - A</td>\n",
              "      <td>Manager - C</td>\n",
              "      <td>130263</td>\n",
              "      <td>243020</td>\n",
              "    </tr>\n",
              "  </tbody>\n",
              "</table>\n",
              "</div>\n",
              "    <div class=\"colab-df-buttons\">\n",
              "\n",
              "  <div class=\"colab-df-container\">\n",
              "    <button class=\"colab-df-convert\" onclick=\"convertToInteractive('df-56f3db4d-ff73-44d5-9257-3677a700ab35')\"\n",
              "            title=\"Convert this dataframe to an interactive table.\"\n",
              "            style=\"display:none;\">\n",
              "\n",
              "  <svg xmlns=\"http://www.w3.org/2000/svg\" height=\"24px\" viewBox=\"0 -960 960 960\">\n",
              "    <path d=\"M120-120v-720h720v720H120Zm60-500h600v-160H180v160Zm220 220h160v-160H400v160Zm0 220h160v-160H400v160ZM180-400h160v-160H180v160Zm440 0h160v-160H620v160ZM180-180h160v-160H180v160Zm440 0h160v-160H620v160Z\"/>\n",
              "  </svg>\n",
              "    </button>\n",
              "\n",
              "  <style>\n",
              "    .colab-df-container {\n",
              "      display:flex;\n",
              "      gap: 12px;\n",
              "    }\n",
              "\n",
              "    .colab-df-convert {\n",
              "      background-color: #E8F0FE;\n",
              "      border: none;\n",
              "      border-radius: 50%;\n",
              "      cursor: pointer;\n",
              "      display: none;\n",
              "      fill: #1967D2;\n",
              "      height: 32px;\n",
              "      padding: 0 0 0 0;\n",
              "      width: 32px;\n",
              "    }\n",
              "\n",
              "    .colab-df-convert:hover {\n",
              "      background-color: #E2EBFA;\n",
              "      box-shadow: 0px 1px 2px rgba(60, 64, 67, 0.3), 0px 1px 3px 1px rgba(60, 64, 67, 0.15);\n",
              "      fill: #174EA6;\n",
              "    }\n",
              "\n",
              "    .colab-df-buttons div {\n",
              "      margin-bottom: 4px;\n",
              "    }\n",
              "\n",
              "    [theme=dark] .colab-df-convert {\n",
              "      background-color: #3B4455;\n",
              "      fill: #D2E3FC;\n",
              "    }\n",
              "\n",
              "    [theme=dark] .colab-df-convert:hover {\n",
              "      background-color: #434B5C;\n",
              "      box-shadow: 0px 1px 3px 1px rgba(0, 0, 0, 0.15);\n",
              "      filter: drop-shadow(0px 1px 2px rgba(0, 0, 0, 0.3));\n",
              "      fill: #FFFFFF;\n",
              "    }\n",
              "  </style>\n",
              "\n",
              "    <script>\n",
              "      const buttonEl =\n",
              "        document.querySelector('#df-56f3db4d-ff73-44d5-9257-3677a700ab35 button.colab-df-convert');\n",
              "      buttonEl.style.display =\n",
              "        google.colab.kernel.accessAllowed ? 'block' : 'none';\n",
              "\n",
              "      async function convertToInteractive(key) {\n",
              "        const element = document.querySelector('#df-56f3db4d-ff73-44d5-9257-3677a700ab35');\n",
              "        const dataTable =\n",
              "          await google.colab.kernel.invokeFunction('convertToInteractive',\n",
              "                                                    [key], {});\n",
              "        if (!dataTable) return;\n",
              "\n",
              "        const docLinkHtml = 'Like what you see? Visit the ' +\n",
              "          '<a target=\"_blank\" href=https://colab.research.google.com/notebooks/data_table.ipynb>data table notebook</a>'\n",
              "          + ' to learn more about interactive tables.';\n",
              "        element.innerHTML = '';\n",
              "        dataTable['output_type'] = 'display_data';\n",
              "        await google.colab.output.renderOutput(dataTable, element);\n",
              "        const docLink = document.createElement('div');\n",
              "        docLink.innerHTML = docLinkHtml;\n",
              "        element.appendChild(docLink);\n",
              "      }\n",
              "    </script>\n",
              "  </div>\n",
              "\n",
              "\n",
              "<div id=\"df-e2bb4158-31d3-454d-b6e7-af9b131a4503\">\n",
              "  <button class=\"colab-df-quickchart\" onclick=\"quickchart('df-e2bb4158-31d3-454d-b6e7-af9b131a4503')\"\n",
              "            title=\"Suggest charts\"\n",
              "            style=\"display:none;\">\n",
              "\n",
              "<svg xmlns=\"http://www.w3.org/2000/svg\" height=\"24px\"viewBox=\"0 0 24 24\"\n",
              "     width=\"24px\">\n",
              "    <g>\n",
              "        <path d=\"M19 3H5c-1.1 0-2 .9-2 2v14c0 1.1.9 2 2 2h14c1.1 0 2-.9 2-2V5c0-1.1-.9-2-2-2zM9 17H7v-7h2v7zm4 0h-2V7h2v10zm4 0h-2v-4h2v4z\"/>\n",
              "    </g>\n",
              "</svg>\n",
              "  </button>\n",
              "\n",
              "<style>\n",
              "  .colab-df-quickchart {\n",
              "      --bg-color: #E8F0FE;\n",
              "      --fill-color: #1967D2;\n",
              "      --hover-bg-color: #E2EBFA;\n",
              "      --hover-fill-color: #174EA6;\n",
              "      --disabled-fill-color: #AAA;\n",
              "      --disabled-bg-color: #DDD;\n",
              "  }\n",
              "\n",
              "  [theme=dark] .colab-df-quickchart {\n",
              "      --bg-color: #3B4455;\n",
              "      --fill-color: #D2E3FC;\n",
              "      --hover-bg-color: #434B5C;\n",
              "      --hover-fill-color: #FFFFFF;\n",
              "      --disabled-bg-color: #3B4455;\n",
              "      --disabled-fill-color: #666;\n",
              "  }\n",
              "\n",
              "  .colab-df-quickchart {\n",
              "    background-color: var(--bg-color);\n",
              "    border: none;\n",
              "    border-radius: 50%;\n",
              "    cursor: pointer;\n",
              "    display: none;\n",
              "    fill: var(--fill-color);\n",
              "    height: 32px;\n",
              "    padding: 0;\n",
              "    width: 32px;\n",
              "  }\n",
              "\n",
              "  .colab-df-quickchart:hover {\n",
              "    background-color: var(--hover-bg-color);\n",
              "    box-shadow: 0 1px 2px rgba(60, 64, 67, 0.3), 0 1px 3px 1px rgba(60, 64, 67, 0.15);\n",
              "    fill: var(--button-hover-fill-color);\n",
              "  }\n",
              "\n",
              "  .colab-df-quickchart-complete:disabled,\n",
              "  .colab-df-quickchart-complete:disabled:hover {\n",
              "    background-color: var(--disabled-bg-color);\n",
              "    fill: var(--disabled-fill-color);\n",
              "    box-shadow: none;\n",
              "  }\n",
              "\n",
              "  .colab-df-spinner {\n",
              "    border: 2px solid var(--fill-color);\n",
              "    border-color: transparent;\n",
              "    border-bottom-color: var(--fill-color);\n",
              "    animation:\n",
              "      spin 1s steps(1) infinite;\n",
              "  }\n",
              "\n",
              "  @keyframes spin {\n",
              "    0% {\n",
              "      border-color: transparent;\n",
              "      border-bottom-color: var(--fill-color);\n",
              "      border-left-color: var(--fill-color);\n",
              "    }\n",
              "    20% {\n",
              "      border-color: transparent;\n",
              "      border-left-color: var(--fill-color);\n",
              "      border-top-color: var(--fill-color);\n",
              "    }\n",
              "    30% {\n",
              "      border-color: transparent;\n",
              "      border-left-color: var(--fill-color);\n",
              "      border-top-color: var(--fill-color);\n",
              "      border-right-color: var(--fill-color);\n",
              "    }\n",
              "    40% {\n",
              "      border-color: transparent;\n",
              "      border-right-color: var(--fill-color);\n",
              "      border-top-color: var(--fill-color);\n",
              "    }\n",
              "    60% {\n",
              "      border-color: transparent;\n",
              "      border-right-color: var(--fill-color);\n",
              "    }\n",
              "    80% {\n",
              "      border-color: transparent;\n",
              "      border-right-color: var(--fill-color);\n",
              "      border-bottom-color: var(--fill-color);\n",
              "    }\n",
              "    90% {\n",
              "      border-color: transparent;\n",
              "      border-bottom-color: var(--fill-color);\n",
              "    }\n",
              "  }\n",
              "</style>\n",
              "\n",
              "  <script>\n",
              "    async function quickchart(key) {\n",
              "      const quickchartButtonEl =\n",
              "        document.querySelector('#' + key + ' button');\n",
              "      quickchartButtonEl.disabled = true;  // To prevent multiple clicks.\n",
              "      quickchartButtonEl.classList.add('colab-df-spinner');\n",
              "      try {\n",
              "        const charts = await google.colab.kernel.invokeFunction(\n",
              "            'suggestCharts', [key], {});\n",
              "      } catch (error) {\n",
              "        console.error('Error during call to suggestCharts:', error);\n",
              "      }\n",
              "      quickchartButtonEl.classList.remove('colab-df-spinner');\n",
              "      quickchartButtonEl.classList.add('colab-df-quickchart-complete');\n",
              "    }\n",
              "    (() => {\n",
              "      let quickchartButtonEl =\n",
              "        document.querySelector('#df-e2bb4158-31d3-454d-b6e7-af9b131a4503 button');\n",
              "      quickchartButtonEl.style.display =\n",
              "        google.colab.kernel.accessAllowed ? 'block' : 'none';\n",
              "    })();\n",
              "  </script>\n",
              "</div>\n",
              "\n",
              "  <div id=\"id_69fe7b8d-65e0-41ff-934d-75187ea321af\">\n",
              "    <style>\n",
              "      .colab-df-generate {\n",
              "        background-color: #E8F0FE;\n",
              "        border: none;\n",
              "        border-radius: 50%;\n",
              "        cursor: pointer;\n",
              "        display: none;\n",
              "        fill: #1967D2;\n",
              "        height: 32px;\n",
              "        padding: 0 0 0 0;\n",
              "        width: 32px;\n",
              "      }\n",
              "\n",
              "      .colab-df-generate:hover {\n",
              "        background-color: #E2EBFA;\n",
              "        box-shadow: 0px 1px 2px rgba(60, 64, 67, 0.3), 0px 1px 3px 1px rgba(60, 64, 67, 0.15);\n",
              "        fill: #174EA6;\n",
              "      }\n",
              "\n",
              "      [theme=dark] .colab-df-generate {\n",
              "        background-color: #3B4455;\n",
              "        fill: #D2E3FC;\n",
              "      }\n",
              "\n",
              "      [theme=dark] .colab-df-generate:hover {\n",
              "        background-color: #434B5C;\n",
              "        box-shadow: 0px 1px 3px 1px rgba(0, 0, 0, 0.15);\n",
              "        filter: drop-shadow(0px 1px 2px rgba(0, 0, 0, 0.3));\n",
              "        fill: #FFFFFF;\n",
              "      }\n",
              "    </style>\n",
              "    <button class=\"colab-df-generate\" onclick=\"generateWithVariable('data')\"\n",
              "            title=\"Generate code using this dataframe.\"\n",
              "            style=\"display:none;\">\n",
              "\n",
              "  <svg xmlns=\"http://www.w3.org/2000/svg\" height=\"24px\"viewBox=\"0 0 24 24\"\n",
              "       width=\"24px\">\n",
              "    <path d=\"M7,19H8.4L18.45,9,17,7.55,7,17.6ZM5,21V16.75L18.45,3.32a2,2,0,0,1,2.83,0l1.4,1.43a1.91,1.91,0,0,1,.58,1.4,1.91,1.91,0,0,1-.58,1.4L9.25,21ZM18.45,9,17,7.55Zm-12,3A5.31,5.31,0,0,0,4.9,8.1,5.31,5.31,0,0,0,1,6.5,5.31,5.31,0,0,0,4.9,4.9,5.31,5.31,0,0,0,6.5,1,5.31,5.31,0,0,0,8.1,4.9,5.31,5.31,0,0,0,12,6.5,5.46,5.46,0,0,0,6.5,12Z\"/>\n",
              "  </svg>\n",
              "    </button>\n",
              "    <script>\n",
              "      (() => {\n",
              "      const buttonEl =\n",
              "        document.querySelector('#id_69fe7b8d-65e0-41ff-934d-75187ea321af button.colab-df-generate');\n",
              "      buttonEl.style.display =\n",
              "        google.colab.kernel.accessAllowed ? 'block' : 'none';\n",
              "\n",
              "      buttonEl.onclick = () => {\n",
              "        google.colab.notebook.generateWithVariable('data');\n",
              "      }\n",
              "      })();\n",
              "    </script>\n",
              "  </div>\n",
              "\n",
              "    </div>\n",
              "  </div>\n"
            ],
            "application/vnd.google.colaboratory.intrinsic+json": {
              "type": "dataframe",
              "variable_name": "data",
              "summary": "{\n  \"name\": \"data\",\n  \"rows\": 22,\n  \"fields\": [\n    {\n      \"column\": \"Month\",\n      \"properties\": {\n        \"dtype\": \"string\",\n        \"num_unique_values\": 22,\n        \"samples\": [\n          \"Month-1\",\n          \"Month-14\",\n          \"Month-9\"\n        ],\n        \"semantic_type\": \"\",\n        \"description\": \"\"\n      }\n    },\n    {\n      \"column\": \"Region\",\n      \"properties\": {\n        \"dtype\": \"category\",\n        \"num_unique_values\": 3,\n        \"samples\": [\n          \"Region - A\",\n          \"Region - B\",\n          \"Region - C\"\n        ],\n        \"semantic_type\": \"\",\n        \"description\": \"\"\n      }\n    },\n    {\n      \"column\": \"Manager\",\n      \"properties\": {\n        \"dtype\": \"category\",\n        \"num_unique_values\": 3,\n        \"samples\": [\n          \"Manager - A\",\n          \"Manager - C\",\n          \"Manager - B\"\n        ],\n        \"semantic_type\": \"\",\n        \"description\": \"\"\n      }\n    },\n    {\n      \"column\": \"Sales_before_digital_add(in $)\",\n      \"properties\": {\n        \"dtype\": \"number\",\n        \"std\": 14844,\n        \"min\": 130263,\n        \"max\": 178939,\n        \"num_unique_values\": 22,\n        \"samples\": [\n          132921,\n          151514,\n          171259\n        ],\n        \"semantic_type\": \"\",\n        \"description\": \"\"\n      }\n    },\n    {\n      \"column\": \"Sales_After_digital_add(in $)\",\n      \"properties\": {\n        \"dtype\": \"number\",\n        \"std\": 25556,\n        \"min\": 187305,\n        \"max\": 276279,\n        \"num_unique_values\": 22,\n        \"samples\": [\n          270390,\n          253131,\n          226261\n        ],\n        \"semantic_type\": \"\",\n        \"description\": \"\"\n      }\n    }\n  ]\n}"
            }
          },
          "metadata": {},
          "execution_count": 2
        }
      ]
    },
    {
      "cell_type": "code",
      "source": [
        "data.info()"
      ],
      "metadata": {
        "colab": {
          "base_uri": "https://localhost:8080/"
        },
        "id": "IRv53EJNaqxj",
        "outputId": "6509fd14-7f89-4d90-d75e-61ee145980ff"
      },
      "execution_count": null,
      "outputs": [
        {
          "output_type": "stream",
          "name": "stdout",
          "text": [
            "<class 'pandas.core.frame.DataFrame'>\n",
            "RangeIndex: 22 entries, 0 to 21\n",
            "Data columns (total 5 columns):\n",
            " #   Column                          Non-Null Count  Dtype \n",
            "---  ------                          --------------  ----- \n",
            " 0   Month                           22 non-null     object\n",
            " 1   Region                          22 non-null     object\n",
            " 2   Manager                         22 non-null     object\n",
            " 3   Sales_before_digital_add(in $)  22 non-null     int64 \n",
            " 4   Sales_After_digital_add(in $)   22 non-null     int64 \n",
            "dtypes: int64(2), object(3)\n",
            "memory usage: 1008.0+ bytes\n"
          ]
        }
      ]
    },
    {
      "cell_type": "markdown",
      "source": [
        "**1.The company wishes to clarify whether there is any increase in sales after stepping into digital marketing.**"
      ],
      "metadata": {
        "id": "OSAc5RveQQvD"
      }
    },
    {
      "cell_type": "code",
      "source": [
        "### Null hypothesis:There is an increase in sales after steeping into digital marketing"
      ],
      "metadata": {
        "id": "RBvXnwC0boRI"
      },
      "execution_count": null,
      "outputs": []
    },
    {
      "cell_type": "code",
      "source": [
        "## ttest\n",
        "from scipy.stats import ttest_ind"
      ],
      "metadata": {
        "id": "4cQH0ZmaIxVE"
      },
      "execution_count": null,
      "outputs": []
    },
    {
      "cell_type": "code",
      "source": [
        "# Calculate increase in sales\n",
        "data['Increase_in_sales'] = data['Sales_After_digital_add(in $)'] - data['Sales_before_digital_add(in $)']\n",
        "# Print results\n",
        "print(\"Increase in Sales:\")\n",
        "print(data[['Month', 'Increase_in_sales']])"
      ],
      "metadata": {
        "colab": {
          "base_uri": "https://localhost:8080/"
        },
        "id": "FCWX0uzcPYli",
        "outputId": "2bc20597-eb5b-4a89-eca9-a14a53416b2c"
      },
      "execution_count": null,
      "outputs": [
        {
          "output_type": "stream",
          "name": "stdout",
          "text": [
            "Increase in Sales:\n",
            "       Month  Increase_in_sales\n",
            "0    Month-1             137469\n",
            "1    Month-2              73775\n",
            "2    Month-3              97965\n",
            "3    Month-4              79641\n",
            "4    Month-5              98877\n",
            "5    Month-6             119785\n",
            "6    Month-7              91481\n",
            "7    Month-8              99497\n",
            "8    Month-9              55002\n",
            "9   Month-10              51779\n",
            "10  Month-11              43836\n",
            "11  Month-12              97340\n",
            "12  Month-13              60118\n",
            "13  Month-14             101617\n",
            "14  Month-15              81873\n",
            "15  Month-16              10110\n",
            "16  Month-17              94046\n",
            "17  Month-18              23521\n",
            "18  Month-19              94905\n",
            "19  Month-20              60086\n",
            "20  Month-21             115963\n",
            "21  Month-22             112757\n"
          ]
        }
      ]
    },
    {
      "cell_type": "code",
      "source": [
        "##Performing ttest\n",
        "t_stat,p_value=ttest_ind(data['Sales_before_digital_add(in $)'],data['Sales_After_digital_add(in $)'])\n",
        "##Printing values\n",
        "print(\"t_statistics: \",t_stat)\n",
        "print(\"p_value: \",p_value)\n"
      ],
      "metadata": {
        "id": "9vRHEEdFJD55",
        "colab": {
          "base_uri": "https://localhost:8080/"
        },
        "outputId": "38100402-9dee-491e-b1c8-7f0bbb7505de"
      },
      "execution_count": null,
      "outputs": [
        {
          "output_type": "stream",
          "name": "stdout",
          "text": [
            "t_statistics:  -12.995084451110875\n",
            "p_value:  2.614368006904645e-16\n"
          ]
        }
      ]
    },
    {
      "cell_type": "code",
      "source": [
        "if p_value<0.05:\n",
        "  print(\"Accept Null hypothesis\")\n",
        "else:\n",
        "  print(\"Reject Null hypothesis\")"
      ],
      "metadata": {
        "colab": {
          "base_uri": "https://localhost:8080/"
        },
        "id": "nlzex1F8KwX2",
        "outputId": "429c8400-4f4a-49ac-b23e-6dd6f8d6fd78"
      },
      "execution_count": null,
      "outputs": [
        {
          "output_type": "stream",
          "name": "stdout",
          "text": [
            "Accept Null hypothesis\n"
          ]
        }
      ]
    },
    {
      "cell_type": "markdown",
      "source": [
        "Here Null hypothesis accepted.There is a significant increase in sales after stepping into digital marketing.\n",
        "\n"
      ],
      "metadata": {
        "id": "7w7IP3f4Mv-l"
      }
    },
    {
      "cell_type": "markdown",
      "source": [
        "**2.The company needs to check whether there is any dependency between the features “Region” and “Manager”.**\n"
      ],
      "metadata": {
        "id": "9NTYbGRAQW16"
      }
    },
    {
      "cell_type": "code",
      "source": [
        "##There is a dependency between the features \"Region\"and \"Manager\""
      ],
      "metadata": {
        "id": "k8NrJ2B0LaGP"
      },
      "execution_count": null,
      "outputs": []
    },
    {
      "cell_type": "code",
      "source": [
        "##chi2 test\n",
        "from scipy.stats import chi2_contingency"
      ],
      "metadata": {
        "id": "kiAQ_74SRF2v"
      },
      "execution_count": 23,
      "outputs": []
    },
    {
      "cell_type": "code",
      "source": [
        "# Create a contingency table using cross tabulation\n",
        "contingency_table = pd.crosstab(data['Region'], data['Manager'])\n",
        "chi2_stat,p_value,dof,expected =chi2_contingency(contingency_table)\n",
        "#print values\n",
        "chi2_contingency(contingency_table)"
      ],
      "metadata": {
        "id": "TgwKAwO2RSyX",
        "colab": {
          "base_uri": "https://localhost:8080/"
        },
        "outputId": "9356a4b8-27cf-4a7f-9547-5084952f3eaa"
      },
      "execution_count": 26,
      "outputs": [
        {
          "output_type": "execute_result",
          "data": {
            "text/plain": [
              "Chi2ContingencyResult(statistic=3.050566893424036, pvalue=0.5493991051158094, dof=4, expected_freq=array([[4.09090909, 3.18181818, 2.72727273],\n",
              "       [2.86363636, 2.22727273, 1.90909091],\n",
              "       [2.04545455, 1.59090909, 1.36363636]]))"
            ]
          },
          "metadata": {},
          "execution_count": 26
        }
      ]
    },
    {
      "cell_type": "code",
      "source": [
        "p_value"
      ],
      "metadata": {
        "colab": {
          "base_uri": "https://localhost:8080/"
        },
        "id": "z4_KUFGUTnXA",
        "outputId": "707eb54f-0e84-4ac9-f392-5b17fed325b8"
      },
      "execution_count": 29,
      "outputs": [
        {
          "output_type": "execute_result",
          "data": {
            "text/plain": [
              "0.5493991051158094"
            ]
          },
          "metadata": {},
          "execution_count": 29
        }
      ]
    },
    {
      "cell_type": "code",
      "source": [
        "if p_value<0.05:\n",
        "  print(\"Accept Null hypothesis\")\n",
        "else:\n",
        "  print(\"Reject Null hypothesis\")"
      ],
      "metadata": {
        "colab": {
          "base_uri": "https://localhost:8080/"
        },
        "id": "7DTknB56Trpm",
        "outputId": "36f041f9-f628-47d8-f234-47c177985717"
      },
      "execution_count": 31,
      "outputs": [
        {
          "output_type": "stream",
          "name": "stdout",
          "text": [
            "Reject Null hypothesis\n"
          ]
        }
      ]
    },
    {
      "cell_type": "markdown",
      "source": [
        "Here Null hypothesis rejected.There is no dependency between the features 'Region' and 'Manager'."
      ],
      "metadata": {
        "id": "YoxxZg-PUvux"
      }
    }
  ]
}